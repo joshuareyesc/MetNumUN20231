{
  "nbformat": 4,
  "nbformat_minor": 0,
  "metadata": {
    "colab": {
      "provenance": [],
      "authorship_tag": "ABX9TyMuoDeOaiWiaL+24mR4/3nJ",
      "include_colab_link": true
    },
    "kernelspec": {
      "name": "python3",
      "display_name": "Python 3"
    },
    "language_info": {
      "name": "python"
    }
  },
  "cells": [
    {
      "cell_type": "markdown",
      "metadata": {
        "id": "view-in-github",
        "colab_type": "text"
      },
      "source": [
        "<a href=\"https://colab.research.google.com/github/joshuareyesc/MetNumUN2023I/blob/main/Quiz1_UNcode.ipynb\" target=\"_parent\"><img src=\"https://colab.research.google.com/assets/colab-badge.svg\" alt=\"Open In Colab\"/></a>"
      ]
    },
    {
      "cell_type": "code",
      "source": [
        "import numpy as np"
      ],
      "metadata": {
        "id": "KS_XZm9d4vJi"
      },
      "execution_count": 1,
      "outputs": []
    },
    {
      "cell_type": "markdown",
      "source": [
        "1)"
      ],
      "metadata": {
        "id": "9JcuqGaw4Vjj"
      }
    },
    {
      "cell_type": "code",
      "execution_count": null,
      "metadata": {
        "id": "_DfocBGAu-zl"
      },
      "outputs": [],
      "source": [
        "#Do not change this function's name, parameters or output format. It will be used in automatic grading.\n",
        "def FizzBuzz(x):\n",
        "    if((x%3)==0):\n",
        "      if((x%3==0)and(x%5==0)):\n",
        "        answer=\"FizzBuzz!\"\n",
        "      else:\n",
        "        answer=\"Fizz!\"\n",
        "    else:\n",
        "      if((x%5)==0):\n",
        "        if((x%5==0)and(x%3==0)):\n",
        "          answer=\"FizzBuzz!\"\n",
        "        else:\n",
        "          answer=\"Buzz!\"\n",
        "      else:\n",
        "        answer=\"...\"\n",
        "\n",
        "      \n",
        "    \n",
        "\n",
        "   \n",
        "    return answer"
      ]
    },
    {
      "cell_type": "markdown",
      "source": [
        "2)"
      ],
      "metadata": {
        "id": "mH_XmegA4Y64"
      }
    },
    {
      "cell_type": "code",
      "source": [
        "#Do not change this function's name, parameters or output format. It will be used in automatic grading.\n",
        "def FizzBuzzList(n):\n",
        "    num=[]\n",
        "    ans = []\n",
        "    if(n>0):\n",
        "      for i in range(n):\n",
        "        num.append(i+1)\n",
        "      for j in range(len(num)):\n",
        "        if((num[j]%3)==0):\n",
        "          if(((num[j]%3)==0) and (num[j]%5)==0):\n",
        "            ans.append(\"FizzBuzz!\")\n",
        "          else:\n",
        "            ans.append(\"Fizz!\") \n",
        "        else:\n",
        "          if((num[j]%5)==0):\n",
        "            if(((num[j]%3)==0) and ((num[j]%5)==0)):\n",
        "              ans.append(\"FizzBuzz!\")\n",
        "\n",
        "            else:\n",
        "              ans.append(\"Buzz!\")\n",
        "          else:\n",
        "            ans.append(\"...\")\n",
        "      return ans \n",
        "    else:\n",
        "      \n",
        "     return ans"
      ],
      "metadata": {
        "id": "wMyTrjZF4aRl"
      },
      "execution_count": null,
      "outputs": []
    },
    {
      "cell_type": "markdown",
      "source": [
        "3)"
      ],
      "metadata": {
        "id": "QJY761W74dYZ"
      }
    },
    {
      "cell_type": "code",
      "source": [
        "def standarize(X):\n",
        "  \n",
        "  X_standarized = ((X-X.mean())/X.std())\n",
        "\n",
        "\n",
        "  return X_standarized"
      ],
      "metadata": {
        "id": "JOZrF5gn4evA"
      },
      "execution_count": null,
      "outputs": []
    },
    {
      "cell_type": "markdown",
      "source": [
        "4)"
      ],
      "metadata": {
        "id": "sHIsD1714lPI"
      }
    },
    {
      "cell_type": "code",
      "source": [
        "def main_diagonal_matrix(A):\n",
        "  \n",
        "  np.diag(A)\n",
        "  D =np.diag(np.diag(A))\n",
        "  D.astype(float)\n",
        "\n",
        "  return D.astype(float)"
      ],
      "metadata": {
        "id": "Rb_Yb6wp4mR2"
      },
      "execution_count": null,
      "outputs": []
    }
  ]
}